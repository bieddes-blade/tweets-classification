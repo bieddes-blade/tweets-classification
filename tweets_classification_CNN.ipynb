{
  "nbformat": 4,
  "nbformat_minor": 0,
  "metadata": {
    "kernelspec": {
      "display_name": "Python 3",
      "language": "python",
      "name": "python3"
    },
    "language_info": {
      "codemirror_mode": {
        "name": "ipython",
        "version": 3
      },
      "file_extension": ".py",
      "mimetype": "text/x-python",
      "name": "python",
      "nbconvert_exporter": "python",
      "pygments_lexer": "ipython3",
      "version": "3.7.3"
    },
    "colab": {
      "provenance": []
    },
    "accelerator": "GPU"
  },
  "cells": [
    {
      "cell_type": "markdown",
      "metadata": {
        "id": "ItCJhRfkFJxJ"
      },
      "source": [
        "#Preparing Data"
      ]
    },
    {
      "cell_type": "markdown",
      "metadata": {
        "id": "wfJw7SZ4DN5x"
      },
      "source": [
        "### Loading train and test data"
      ]
    },
    {
      "cell_type": "code",
      "metadata": {
        "id": "UWYIy8Z4DQ98"
      },
      "source": [
        "! wget -O task2_ru_training.tsv https://www.dropbox.com/s/2nvhmusyozfrrn9/train.tsv?dl=0\n",
        "! wget -O task2_ru_test.tsv https://www.dropbox.com/s/77s33v3q3q1i5mr/test.tsv?dl=0"
      ],
      "execution_count": null,
      "outputs": []
    },
    {
      "cell_type": "markdown",
      "metadata": {
        "id": "aezYXyaP67G5"
      },
      "source": [
        "### Splitting train set into train and dev, balancing and preparing data"
      ]
    },
    {
      "cell_type": "code",
      "metadata": {
        "id": "2soYNev367G7"
      },
      "source": [
        "import os\n",
        "import pandas as pd\n",
        "from sklearn.model_selection import train_test_split"
      ],
      "execution_count": null,
      "outputs": []
    },
    {
      "cell_type": "code",
      "metadata": {
        "id": "EDa3bZ-767HK"
      },
      "source": [
        "train_path = r\"task2_ru_training.tsv\"\n",
        "test_path = r\"task2_ru_test.tsv\"\n",
        "res_dataset_dir = r\"corpus_normalized/\"\n",
        "if not os.path.exists(res_dataset_dir):\n",
        "    os.makedirs(res_dataset_dir)"
      ],
      "execution_count": null,
      "outputs": []
    },
    {
      "cell_type": "code",
      "metadata": {
        "id": "j8_EdIpn67HV"
      },
      "source": [
        "train_df = pd.read_csv(train_path, sep=\",\", encoding=\"utf-8\")\n",
        "test_df = pd.read_csv(test_path, sep=\",\", encoding=\"utf-8\")\n",
        "train_df, dev_df, _, _ = \\\n",
        "    train_test_split(train_df, train_df, test_size=0.1, random_state=42)\n",
        "\n",
        "train_positive_class_df = train_df[train_df['class'] == 1]\n",
        "train_negative_class_df = train_df[train_df['class'] == 0]\n",
        "num_positive_examples = train_positive_class_df.shape[0]\n",
        "# For the training set, we take the same amount of positive and negative examples\n",
        "train_negative_class_df = train_negative_class_df.sample(num_positive_examples, )\n",
        "# Concatenating positive and negative examples and shuffling the training set\n",
        "class_normalized_train_df = pd.concat([train_positive_class_df, train_negative_class_df]).sample(frac=1)\n",
        "\n",
        "\n",
        "out_train_path = os.path.join(res_dataset_dir, \"train.tsv\")\n",
        "out_test_path = os.path.join(res_dataset_dir, \"test.tsv\")\n",
        "out_dev_path = os.path.join(res_dataset_dir, \"dev.tsv\")\n",
        "\n",
        "class_normalized_train_df.to_csv(out_train_path, sep=\"\\t\", encoding=\"utf-8\", index=False, )\n",
        "test_df.to_csv(out_test_path, sep=\"\\t\", encoding=\"utf-8\", index=False)\n",
        "dev_df.to_csv(out_dev_path, sep=\"\\t\", encoding=\"utf-8\", index=False, )"
      ],
      "execution_count": null,
      "outputs": []
    },
    {
      "cell_type": "markdown",
      "metadata": {
        "id": "A5Cyq3AS67Hh"
      },
      "source": [
        "# Training CNN classifier"
      ]
    },
    {
      "cell_type": "markdown",
      "metadata": {
        "id": "gvUZq76o67Hj"
      },
      "source": [
        "Model architecture is adopted from:\n",
        "\n",
        "https://github.com/ShawnyXiao/TextClassification-Keras/tree/master/model/TextCNN"
      ]
    },
    {
      "cell_type": "code",
      "metadata": {
        "id": "3A1VGZ9S67Hm"
      },
      "source": [
        "# %pip install tensorflow"
      ],
      "execution_count": null,
      "outputs": []
    },
    {
      "cell_type": "markdown",
      "metadata": {
        "id": "bguVwjq6GHbm"
      },
      "source": [
        "For Russian language, we can use the [Fasttext model](https://drive.google.com/file/d/1su3IYY1avcj95tez69JI8f5qsTng72-I/view?usp=sharing) pretrained on the raw part of the [RuDReC corpus](https://github.com/cimm-kzn/RuDReC) to initialize a matrix of embeddings"
      ]
    },
    {
      "cell_type": "code",
      "metadata": {
        "id": "MtrdWAmfHF5w"
      },
      "source": [
        "! wget --load-cookies /tmp/cookies.txt \"https://docs.google.com/uc?export=download&confirm=$(wget --quiet --save-cookies /tmp/cookies.txt --keep-session-cookies --no-check-certificate 'https://docs.google.com/uc?export=download&id=1su3IYY1avcj95tez69JI8f5qsTng72-I' -O- | sed -rn 's/.*confirm=([0-9A-Za-z_]+).*/\\1\\n/p')&id=1su3IYY1avcj95tez69JI8f5qsTng72-I\" -O fasttext_rudrec_raw.bin && rm -rf /tmp/cookies.txt"
      ],
      "execution_count": null,
      "outputs": []
    },
    {
      "cell_type": "code",
      "metadata": {
        "id": "Hle9XtrWGAP5",
        "outputId": "afb56a9d-11cc-4b41-d2c0-9b98f22c9c15",
        "colab": {
          "base_uri": "https://localhost:8080/",
          "height": 243
        }
      },
      "source": [
        "! pip install fasttext"
      ],
      "execution_count": null,
      "outputs": [
        {
          "output_type": "stream",
          "text": [
            "Collecting fasttext\n",
            "\u001b[?25l  Downloading https://files.pythonhosted.org/packages/f8/85/e2b368ab6d3528827b147fdb814f8189acc981a4bc2f99ab894650e05c40/fasttext-0.9.2.tar.gz (68kB)\n",
            "\r\u001b[K     |████▊                           | 10kB 28.5MB/s eta 0:00:01\r\u001b[K     |█████████▌                      | 20kB 22.8MB/s eta 0:00:01\r\u001b[K     |██████████████▎                 | 30kB 17.8MB/s eta 0:00:01\r\u001b[K     |███████████████████             | 40kB 15.5MB/s eta 0:00:01\r\u001b[K     |███████████████████████▉        | 51kB 9.9MB/s eta 0:00:01\r\u001b[K     |████████████████████████████▋   | 61kB 10.3MB/s eta 0:00:01\r\u001b[K     |████████████████████████████████| 71kB 6.1MB/s \n",
            "\u001b[?25hRequirement already satisfied: pybind11>=2.2 in /usr/local/lib/python3.6/dist-packages (from fasttext) (2.6.0)\n",
            "Requirement already satisfied: setuptools>=0.7.0 in /usr/local/lib/python3.6/dist-packages (from fasttext) (50.3.0)\n",
            "Requirement already satisfied: numpy in /usr/local/lib/python3.6/dist-packages (from fasttext) (1.18.5)\n",
            "Building wheels for collected packages: fasttext\n",
            "  Building wheel for fasttext (setup.py) ... \u001b[?25l\u001b[?25hdone\n",
            "  Created wheel for fasttext: filename=fasttext-0.9.2-cp36-cp36m-linux_x86_64.whl size=3023454 sha256=9b0c6f43f31bc12f61777465cc1252f55be0f74dc303fd5cf609fc4bc2b02c26\n",
            "  Stored in directory: /root/.cache/pip/wheels/98/ba/7f/b154944a1cf5a8cee91c154b75231136cc3a3321ab0e30f592\n",
            "Successfully built fasttext\n",
            "Installing collected packages: fasttext\n",
            "Successfully installed fasttext-0.9.2\n"
          ],
          "name": "stdout"
        }
      ]
    },
    {
      "cell_type": "code",
      "metadata": {
        "id": "IQCN0f_I67H7"
      },
      "source": [
        "import fasttext\n",
        "import numpy as np\n",
        "import pandas as pd\n",
        "from keras_preprocessing import sequence\n",
        "from keras_preprocessing.text import Tokenizer\n",
        "from sklearn.metrics import precision_score, recall_score, f1_score, roc_auc_score\n",
        "from tensorflow.keras.callbacks import EarlyStopping"
      ],
      "execution_count": null,
      "outputs": []
    },
    {
      "cell_type": "code",
      "metadata": {
        "id": "WlssSr3L67II"
      },
      "source": [
        "train_path = r\"corpus_normalized/train.tsv\"\n",
        "dev_path = r\"corpus_normalized/dev.tsv\"\n",
        "test_path = r\"corpus_normalized/test.tsv\"\n",
        "fasttext_model_path = r\"fasttext_rudrec_raw.bin\""
      ],
      "execution_count": null,
      "outputs": []
    },
    {
      "cell_type": "code",
      "metadata": {
        "id": "rjZHe7Ze67IR",
        "outputId": "a91ac8ca-1af6-48e0-efa1-c92948c86d35",
        "colab": {
          "base_uri": "https://localhost:8080/",
          "height": 34
        }
      },
      "source": [
        "# Loading data\n",
        "train_df = pd.read_csv(train_path, sep='\\t', encoding=\"utf-8\",)\n",
        "dev_df = pd.read_csv(dev_path, sep='\\t', encoding=\"utf-8\",)\n",
        "test_df = pd.read_csv(test_path, sep='\\t', encoding=\"utf-8\",)\n",
        "# Loading pretrained fastext model\n",
        "fasttext_model = fasttext.load_model(fasttext_model_path)\n",
        "\n",
        "# Extracting tweet texts\n",
        "train_tweet_texts = train_df.tweet.values\n",
        "test_tweet_texts = test_df.tweet.values\n",
        "dev_tweet_texts = dev_df.tweet.values\n",
        "\n",
        "# Extracting tweet labels\n",
        "train_labels = train_df['class'].values\n",
        "#test_labels = test_df['class'].values\n",
        "dev_labels = dev_df['class'].values\n"
      ],
      "execution_count": null,
      "outputs": [
        {
          "output_type": "stream",
          "text": [
            "Warning : `load_model` does not return WordVectorModel or SupervisedModel any more, but a `FastText` object which is very similar.\n"
          ],
          "name": "stderr"
        }
      ]
    },
    {
      "cell_type": "markdown",
      "metadata": {
        "id": "QRIy0Nzt67IZ"
      },
      "source": [
        "### Preprocessing\n",
        "\n",
        "Preprocessing is adopted from:\n",
        "\n",
        "https://github.com/akutuzov/webvectors/blob/master/preprocessing/modular_processing/unify.py\n",
        "\n",
        "We unify letters to decrease the size of dictionary. We also unify and remove all punctuation."
      ]
    },
    {
      "cell_type": "code",
      "metadata": {
        "id": "8atWRqxj67Ia"
      },
      "source": [
        "import re\n",
        "def list_replace(search, replacement, text):\n",
        "    \"\"\"\n",
        "    Replaces all symbols of text which are present\n",
        "    in the search string with the replacement string.\n",
        "    \"\"\"\n",
        "    search = [el for el in search if el in text]\n",
        "    for c in search:\n",
        "        text = text.replace(c, replacement)\n",
        "    return text\n",
        "\n",
        "def clean_text(text):\n",
        "    text = list_replace \\\n",
        "        ('\\u00AB\\u00BB\\u2039\\u203A\\u201E\\u201A\\u201C\\u201F\\u2018\\u201B\\u201D\\u2019', '\\u0022', text)\n",
        "\n",
        "    text = list_replace \\\n",
        "        ('\\u2012\\u2013\\u2014\\u2015\\u203E\\u0305\\u00AF', '\\u2003\\u002D\\u002D\\u2003', text)\n",
        "\n",
        "    text = list_replace('\\u2010\\u2011', '\\u002D', text)\n",
        "\n",
        "    text = list_replace \\\n",
        "            (\n",
        "            '\\u2000\\u2001\\u2002\\u2004\\u2005\\u2006\\u2007\\u2008\\u2009\\u200A\\u200B\\u202F\\u205F\\u2060\\u3000',\n",
        "            '\\u2002', text)\n",
        "\n",
        "    text = re.sub('\\u2003\\u2003', '\\u2003', text)\n",
        "    text = re.sub('\\t\\t', '\\t', text)\n",
        "\n",
        "    text = list_replace \\\n",
        "            (\n",
        "            '\\u02CC\\u0307\\u0323\\u2022\\u2023\\u2043\\u204C\\u204D\\u2219\\u25E6\\u00B7\\u00D7\\u22C5\\u2219\\u2062',\n",
        "            '.', text)\n",
        "\n",
        "    text = list_replace('\\u2217', '\\u002A', text)\n",
        "\n",
        "    text = list_replace('…', '...', text)\n",
        "\n",
        "    text = list_replace('\\u00C4', 'A', text)\n",
        "    text = list_replace('\\u00E4', 'a', text)\n",
        "    text = list_replace('\\u00CB', 'E', text)\n",
        "    text = list_replace('\\u00EB', 'e', text)\n",
        "    text = list_replace('\\u1E26', 'H', text)\n",
        "    text = list_replace('\\u1E27', 'h', text)\n",
        "    text = list_replace('\\u00CF', 'I', text)\n",
        "    text = list_replace('\\u00EF', 'i', text)\n",
        "    text = list_replace('\\u00D6', 'O', text)\n",
        "    text = list_replace('\\u00F6', 'o', text)\n",
        "    text = list_replace('\\u00DC', 'U', text)\n",
        "    text = list_replace('\\u00FC', 'u', text)\n",
        "    text = list_replace('\\u0178', 'Y', text)\n",
        "    text = list_replace('\\u00FF', 'y', text)\n",
        "    text = list_replace('\\u00DF', 's', text)\n",
        "    text = list_replace('\\u1E9E', 'S', text)\n",
        "    # Removing punctuation\n",
        "    text = list_replace(',.[]{}()=+-−*&^%$#@!~;:§/\\|\\?\"\\n', ' ', text)\n",
        "    # Replacing all numbers with masks\n",
        "    text = list_replace('0123456789', 'x', text)\n",
        "\n",
        "    currencies = list \\\n",
        "            (\n",
        "            '\\u20BD\\u0024\\u00A3\\u20A4\\u20AC\\u20AA\\u2133\\u20BE\\u00A2\\u058F\\u0BF9\\u20BC\\u20A1\\u20A0\\u20B4\\u20A7\\u20B0\\u20BF\\u20A3\\u060B\\u0E3F\\u20A9\\u20B4\\u20B2\\u0192\\u20AB\\u00A5\\u20AD\\u20A1\\u20BA\\u20A6\\u20B1\\uFDFC\\u17DB\\u20B9\\u20A8\\u20B5\\u09F3\\u20B8\\u20AE\\u0192'\n",
        "        )\n",
        "\n",
        "    alphabet = list \\\n",
        "            (\n",
        "            '\\t\\r абвгдеёзжийклмнопрстуфхцчшщьыъэюяАБВГДЕЁЗЖИЙКЛМНОПРСТУФХЦЧШЩЬЫЪЭЮЯabcdefghijklmnopqrstuvwxyzABCDEFGHIJKLMNOPQRSTUVWXYZ ')\n",
        "\n",
        "    allowed = set(currencies + alphabet)\n",
        "\n",
        "    cleaned_text = [sym for sym in text if sym in allowed]\n",
        "    cleaned_text = ''.join(cleaned_text)\n",
        "\n",
        "    return cleaned_text"
      ],
      "execution_count": null,
      "outputs": []
    },
    {
      "cell_type": "code",
      "metadata": {
        "id": "y7A4Z8xQ67If"
      },
      "source": [
        "maxlen = 0\n",
        "# Preprocessing training tweets\n",
        "cleaned_train_texts = []\n",
        "for tweet_text in train_tweet_texts:\n",
        "    cleaned_text = clean_text(tweet_text).lower()\n",
        "    split_cleaned_text = cleaned_text.split()\n",
        "    # Estimating max length of all training tweets in tokens\n",
        "    if len(split_cleaned_text) > maxlen:\n",
        "        maxlen = len(split_cleaned_text)\n",
        "    cleaned_train_texts.append(\" \".join(split_cleaned_text))\n",
        "\n",
        "# Preprocessing test tweets\n",
        "cleaned_test_texts = []\n",
        "for tweet_text in test_tweet_texts:\n",
        "    cleaned_text = clean_text(tweet_text)\n",
        "    cleaned_test_texts.append(\" \".join(cleaned_text.split()))\n",
        "\n",
        "# Preprocessing validation tweets\n",
        "cleaned_dev_texts = []\n",
        "for tweet_text in dev_tweet_texts:\n",
        "    cleaned_text = clean_text(tweet_text)\n",
        "    cleaned_dev_texts.append(\" \".join(cleaned_text.split()))"
      ],
      "execution_count": null,
      "outputs": []
    },
    {
      "cell_type": "markdown",
      "metadata": {
        "id": "2P15X_Rl67Ik"
      },
      "source": [
        "### Encoding each tweet as a sequence of token ids. Initializing an embedding matrix using a pretrained Fasttext model"
      ]
    },
    {
      "cell_type": "code",
      "metadata": {
        "id": "CgwAkIeE67Il"
      },
      "source": [
        "EMBEDDINGS_DIM = 200\n",
        "\n",
        "tokenizer = Tokenizer(lower=True, char_level=False)\n",
        "tokenizer.fit_on_texts(cleaned_train_texts + cleaned_test_texts + cleaned_dev_texts)\n",
        "# Converting texts to lists of ids\n",
        "word_seq_train = tokenizer.texts_to_sequences(cleaned_train_texts)\n",
        "word_seq_test = tokenizer.texts_to_sequences(cleaned_test_texts)\n",
        "word_seq_dev = tokenizer.texts_to_sequences(cleaned_dev_texts)\n",
        "word_index = tokenizer.word_index\n",
        "\n",
        "# Padding too short tweet texts with '0's\n",
        "word_seq_train = sequence.pad_sequences(word_seq_train, maxlen=maxlen)\n",
        "word_seq_test = sequence.pad_sequences(word_seq_test, maxlen=maxlen)\n",
        "word_seq_dev = sequence.pad_sequences(word_seq_dev, maxlen=maxlen)\n",
        "\n",
        "dictionary_size = len(word_index.keys())\n",
        "# 0-th token of embedding matrix is a padding token\n",
        "embedding_matrix = np.zeros((dictionary_size + 1, EMBEDDINGS_DIM))\\\n",
        "\n",
        "for word, i in word_index.items():\n",
        "    embedding_vector = fasttext_model.get_word_vector((word))\n",
        "    if (embedding_vector is not None) and len(embedding_vector) > 0:\n",
        "        # words not found in embedding index will be all-zeros.\n",
        "        embedding_matrix[i] = embedding_vector"
      ],
      "execution_count": null,
      "outputs": []
    },
    {
      "cell_type": "markdown",
      "metadata": {
        "id": "T3D1wXs767Ir"
      },
      "source": [
        "### Compiling the model\n",
        "\n",
        "We add early stopping callback and keep model weights from the epoch with the highest validation accuracy:"
      ]
    },
    {
      "cell_type": "code",
      "metadata": {
        "id": "SiK5Ao3FRXBC"
      },
      "source": [
        "from tensorflow.keras import Model\n",
        "from tensorflow.keras.layers import Embedding, Dense, Conv1D, GlobalMaxPooling1D, Concatenate, Flatten, Dropout, LeakyReLU\n",
        "\n",
        "class TextCNN(Model):\n",
        "    def __init__(self,\n",
        "                 maxlen,\n",
        "                 max_features,\n",
        "                 embedding_dims,\n",
        "                 kernel_sizes=[3, 4, 5],\n",
        "                 class_num=1,\n",
        "                 last_activation='sigmoid',\n",
        "                 embedding_weights=None):\n",
        "\n",
        "        super(TextCNN, self).__init__()\n",
        "        self.maxlen = maxlen\n",
        "        self.max_features = max_features\n",
        "        self.embedding_dims = embedding_dims\n",
        "        self.kernel_sizes = kernel_sizes\n",
        "        self.class_num = class_num\n",
        "        self.last_activation = last_activation\n",
        "\n",
        "        self.embedding = Embedding(self.max_features, self.embedding_dims,\n",
        "                                   input_length=self.maxlen, weights=[embedding_weights], )\n",
        "        self.convs = []\n",
        "        self.max_poolings = []\n",
        "\n",
        "        self.convs.append(Conv1D(128, 3, activation=LeakyReLU(0.1)))\n",
        "        self.max_poolings.append(GlobalMaxPooling1D())\n",
        "\n",
        "        self.convs.append(Conv1D(128, 4, activation=LeakyReLU(0.1)))\n",
        "        self.max_poolings.append(GlobalMaxPooling1D())\n",
        "\n",
        "        self.convs.append(Conv1D(128, 5, activation=LeakyReLU(0.1)))\n",
        "        self.max_poolings.append(GlobalMaxPooling1D())\n",
        "\n",
        "        self.classifier = Dense(1, activation=self.last_activation)\n",
        "\n",
        "    def call(self, inputs):\n",
        "        if len(inputs.get_shape()) != 2:\n",
        "            raise ValueError('The rank of inputs of TextCNN must be 2, but now is %d' % len(inputs.get_shape()))\n",
        "        if inputs.get_shape()[1] != self.maxlen:\n",
        "            raise ValueError(\n",
        "                'The maxlen of inputs of TextCNN must be %d, but now is %d' % (self.maxlen, inputs.get_shape()[1]))\n",
        "        # Embedding part can try multichannel as same as origin paper\n",
        "\n",
        "        embedding = self.embedding(inputs)\n",
        "        convs = []\n",
        "        for i in range(len(self.kernel_sizes)):\n",
        "            c = self.convs[i](embedding)\n",
        "            c = self.max_poolings[i](c)\n",
        "            convs.append(c)\n",
        "\n",
        "        x = Concatenate()(convs)\n",
        "\n",
        "        #flat = Flatten()(x)\n",
        "        #drop = Dropout(0.2)(x)\n",
        "\n",
        "        output = self.classifier(x)\n",
        "        return output"
      ],
      "execution_count": null,
      "outputs": []
    },
    {
      "cell_type": "code",
      "metadata": {
        "id": "rJe5cn4T67Is"
      },
      "source": [
        "BATCH_SIZE = 128\n",
        "EMBEDDINGS_DIM = 200\n",
        "CLASSIFIER_TRAIN_EPOCHS = 20\n",
        "\n",
        "model = TextCNN(maxlen, dictionary_size + 1, EMBEDDINGS_DIM, embedding_weights=embedding_matrix)\n",
        "model.compile('adam', 'binary_crossentropy', metrics=['accuracy'], )\n",
        "early_stopping = EarlyStopping(monitor='val_accuracy', patience=3 , mode='max', restore_best_weights=True)"
      ],
      "execution_count": null,
      "outputs": []
    },
    {
      "cell_type": "markdown",
      "metadata": {
        "id": "6FJRbS2r67Iy"
      },
      "source": [
        "### Training:"
      ]
    },
    {
      "cell_type": "code",
      "metadata": {
        "id": "x3eaNFTO67Iz",
        "outputId": "0446a7d8-f5e7-46b8-b54d-beb3f4dd0e1b",
        "colab": {
          "base_uri": "https://localhost:8080/",
          "height": 312
        }
      },
      "source": [
        "model.fit(word_seq_train, train_labels,\n",
        "              batch_size=BATCH_SIZE,\n",
        "              epochs=CLASSIFIER_TRAIN_EPOCHS,\n",
        "              callbacks=[early_stopping, ],\n",
        "              validation_data=(word_seq_dev, dev_labels))"
      ],
      "execution_count": null,
      "outputs": [
        {
          "output_type": "stream",
          "text": [
            "Epoch 1/20\n",
            "12/12 [==============================] - 1s 52ms/step - loss: 0.6714 - accuracy: 0.6094 - val_loss: 0.7957 - val_accuracy: 0.4223\n",
            "Epoch 2/20\n",
            "12/12 [==============================] - 0s 41ms/step - loss: 0.4329 - accuracy: 0.8221 - val_loss: 0.5719 - val_accuracy: 0.7090\n",
            "Epoch 3/20\n",
            "12/12 [==============================] - 0s 40ms/step - loss: 0.3127 - accuracy: 0.9045 - val_loss: 0.4755 - val_accuracy: 0.7899\n",
            "Epoch 4/20\n",
            "12/12 [==============================] - 0s 41ms/step - loss: 0.2277 - accuracy: 0.9545 - val_loss: 0.4231 - val_accuracy: 0.8225\n",
            "Epoch 5/20\n",
            "12/12 [==============================] - 0s 42ms/step - loss: 0.1683 - accuracy: 0.9776 - val_loss: 0.3895 - val_accuracy: 0.8319\n",
            "Epoch 6/20\n",
            "12/12 [==============================] - 0s 40ms/step - loss: 0.1225 - accuracy: 0.9934 - val_loss: 0.4406 - val_accuracy: 0.8109\n",
            "Epoch 7/20\n",
            "12/12 [==============================] - 1s 42ms/step - loss: 0.0866 - accuracy: 0.9980 - val_loss: 0.5482 - val_accuracy: 0.7553\n",
            "Epoch 8/20\n",
            "12/12 [==============================] - 0s 41ms/step - loss: 0.0635 - accuracy: 0.9980 - val_loss: 0.4518 - val_accuracy: 0.8120\n"
          ],
          "name": "stdout"
        },
        {
          "output_type": "execute_result",
          "data": {
            "text/plain": [
              "<tensorflow.python.keras.callbacks.History at 0x7f97e4404f28>"
            ]
          },
          "metadata": {
            "tags": []
          },
          "execution_count": 202
        }
      ]
    },
    {
      "cell_type": "markdown",
      "metadata": {
        "id": "gZmxj78867I5"
      },
      "source": [
        "### Predicting labels for dev and test sets:"
      ]
    },
    {
      "cell_type": "code",
      "metadata": {
        "id": "tmY11ovz67I6"
      },
      "source": [
        "CLASSIFICATION_THRESHOLD = 0.5\n",
        "\n",
        "predicted_test_prob = model.predict(word_seq_test)\n",
        "predicted_test_labels = []\n",
        "predicted_dev_prob = model.predict(word_seq_dev)\n",
        "predicted_dev_labels = []\n",
        "\n",
        "for subarray in predicted_test_prob:\n",
        "    label = 1 if subarray[0] >= CLASSIFICATION_THRESHOLD else 0\n",
        "    predicted_test_labels.append(label)\n",
        "\n",
        "for subarray in predicted_dev_prob:\n",
        "    label = 1 if subarray[0] >= CLASSIFICATION_THRESHOLD else 0\n",
        "    predicted_dev_labels.append(label)"
      ],
      "execution_count": null,
      "outputs": []
    },
    {
      "cell_type": "markdown",
      "metadata": {
        "id": "Kms46cam67I_"
      },
      "source": [
        "### Calculating dev precision, recall, f1-score and ROC_AUC:"
      ]
    },
    {
      "cell_type": "code",
      "metadata": {
        "id": "gHppSc1b67JA",
        "outputId": "cac67adf-165c-49bc-bf13-507dce929d56",
        "colab": {
          "base_uri": "https://localhost:8080/",
          "height": 104
        }
      },
      "source": [
        "dev_precision = precision_score(dev_labels, predicted_dev_labels)\n",
        "dev_recall = recall_score(dev_labels, predicted_dev_labels)\n",
        "dev_f_measure = f1_score(dev_labels, predicted_dev_labels)\n",
        "dev_roc_auc = roc_auc_score(dev_labels, predicted_dev_labels)\n",
        "print(f\"Dev:\\nPrecision: {dev_precision}\\n\"\n",
        "        f\"Recall: {dev_recall}\\n\"\n",
        "        f\"F-measure: {dev_f_measure}\\n\"\n",
        "        f\"ROC_AUC: {dev_roc_auc}\")"
      ],
      "execution_count": null,
      "outputs": [
        {
          "output_type": "stream",
          "text": [
            "Dev:\n",
            "Precision: 0.27111111111111114\n",
            "Recall: 0.8356164383561644\n",
            "F-measure: 0.40939597315436244\n",
            "ROC_AUC: 0.8245203921018592\n"
          ],
          "name": "stdout"
        }
      ]
    }
  ]
}